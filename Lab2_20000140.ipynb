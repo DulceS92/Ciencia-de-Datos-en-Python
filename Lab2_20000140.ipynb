{
 "cells": [
  {
   "cell_type": "markdown",
   "metadata": {},
   "source": [
    "Postgrado en Análisis y Predicción de Datos  \n",
    "IIO - Universidad Galileo  \n",
    "Febrero, 2021  \n",
    " \n",
    "<H1><center> Laboratorio #2 - Version control systems (VCS)</center></H1>"
   ]
  },
  {
   "cell_type": "markdown",
   "metadata": {},
   "source": [
    "****"
   ]
  },
  {
   "cell_type": "markdown",
   "metadata": {},
   "source": [
    "Dulce Rocio Sosa Cerna 20000140"
   ]
  },
  {
   "cell_type": "markdown",
   "metadata": {},
   "source": [
    "**Version Control Systems** son herramientas utilizadas para seguimiento de cambios en el código fuente, archivos o carpetas. Almacena un historial y facilita la colaboración. Git es un software de código abierto que funciona como un estándar de sistemas de controles de versiones. Algunas preguntas que puede ayudar a respondernos son:"
   ]
  },
  {
   "cell_type": "markdown",
   "metadata": {},
   "source": [
    "* ¿Quién escribió este módulo?\n",
    "* ¿Cuándo se editó esta línea en particular de este archivo en particular? ¿Por quién? ¿Por qué se editó?\n",
    "* ¿Cuándo/por qué dejó de funcionar una prueba unitaria en particular?\n"
   ]
  },
  {
   "cell_type": "markdown",
   "metadata": {},
   "source": [
    "   | | Ejemplos de VCS  |\n",
    "|---:|:-------------|\n",
    "| 1 | Git  | \n",
    "| 2 | CVS  |\n",
    "| 3 | Mercurial  |\n",
    "| 4 | Apache Subversion (SVN)  |\n",
    "| 5 | Monotone  |"
   ]
  },
  {
   "cell_type": "markdown",
   "metadata": {},
   "source": [
    "En la terminología de Git, un archivo se denomina \"blob\" y es solo un montón de bytes. Un directorio se denomina \"árbol\" y asigna nombres a blobs o árboles"
   ]
  },
  {
   "cell_type": "markdown",
   "metadata": {},
   "source": [
    "<root> (tree)\n",
    "|\n",
    "+- foo (tree)\n",
    "|  |\n",
    "|  + bar.txt (blob, contents = \"hello world\")\n",
    "|\n",
    "+- baz.txt (blob, contents = \"git is wonderful\")\n"
   ]
  },
  {
   "cell_type": "markdown",
   "metadata": {},
   "source": [
    "Git utiliza referencias para confirmaciones"
   ]
  },
  {
   "cell_type": "code",
   "execution_count": null,
   "metadata": {},
   "outputs": [],
   "source": [
    "references = map<string, string>\n",
    "\n",
    "def update_reference(name, id):\n",
    "    references[name] = id\n",
    "\n",
    "def read_reference(name):\n",
    "    return references[name]\n",
    "\n",
    "def load_reference(name_or_id):\n",
    "    if name_or_id in references:\n",
    "        return load(references[name_or_id])\n",
    "    else:\n",
    "        return load(name_or_id)\n"
   ]
  },
  {
   "cell_type": "markdown",
   "metadata": {},
   "source": [
    "Para reconocimiento de ubicación, Git utiliza una referencia especial que se llama HEAD. Esto funciona desde el directorio, agregando un index y por ultimo un commit hasta llevarte al head; como se muestr en la imagen de abajo:"
   ]
  },
  {
   "cell_type": "markdown",
   "metadata": {},
   "source": [
    "     "
   ]
  },
  {
   "cell_type": "markdown",
   "metadata": {},
   "source": [
    "<img src=\"git-folders.png\">"
   ]
  },
  {
   "cell_type": "markdown",
   "metadata": {},
   "source": [
    "      "
   ]
  },
  {
   "cell_type": "markdown",
   "metadata": {},
   "source": [
    "      "
   ]
  },
  {
   "cell_type": "markdown",
   "metadata": {},
   "source": [
    "Algunos de los comandos mas usados en Git son:"
   ]
  },
  {
   "cell_type": "markdown",
   "metadata": {},
   "source": [
    "* **Git help <command>:** ayuda para saber mas sobre un comando.\n",
    "* **Git init:** utilizado para crear un nuevo repositorio.\n",
    "* **Git status:** para saber que esta pasando.\n",
    "* **Git add <filename>:** para añadir archivos al área de ensayo.\n",
    "* **Git commit:** para crear una nueva confirmación.\n",
    "* **Git diff <filename>:** para mostrar los cambios realizados versus el ensayo.\n",
    "* **Git diff <revision> <filename>:** para mostrar las diferencias en un archivo.\n",
    "* **Git checkout <revision>:** actualizar HEAD y branc actual.\n"
   ]
  },
  {
   "cell_type": "code",
   "execution_count": null,
   "metadata": {},
   "outputs": [],
   "source": []
  }
 ],
 "metadata": {
  "kernelspec": {
   "display_name": "Python 3",
   "language": "python",
   "name": "python3"
  },
  "language_info": {
   "codemirror_mode": {
    "name": "ipython",
    "version": 3
   },
   "file_extension": ".py",
   "mimetype": "text/x-python",
   "name": "python",
   "nbconvert_exporter": "python",
   "pygments_lexer": "ipython3",
   "version": "3.8.5"
  }
 },
 "nbformat": 4,
 "nbformat_minor": 4
}
